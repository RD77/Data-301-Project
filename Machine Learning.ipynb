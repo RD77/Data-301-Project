{
 "cells": [
  {
   "cell_type": "markdown",
   "metadata": {},
   "source": [
    "# Machine Learning"
   ]
  },
  {
   "cell_type": "markdown",
   "metadata": {},
   "source": [
    "The data collected is a time series. Therefore, for the machine learning section different models will be built for the purpose of predicting how many accidents are going to occur in the next hour given traffic data from the past and weather estimatations for that next hour. Since we naturally have access to future weather predictions, I wanted to incorporate this into my model, and this was the reason for using the future weather as a feature. Since I am using time series data, I will only be predicting accidents for one specific location rather than at multiple locations. The analysis that was done in the data exploration section suggests that postmile 55.89 appears to have the most variability and impact in regards to accidents. Therefore, I will be using this specific postmile and the associated data for my predictions.\n",
    "\n",
    "One forseeable problem that was breifly discussed in the data exploration was the time distortion in my data. The data is represented by hours in a day; however, these hours are averaged throughout an entire week. This will most likely cause problems for the models that I will be implementing."
   ]
  },
  {
   "cell_type": "code",
   "execution_count": 1,
   "metadata": {},
   "outputs": [
    {
     "name": "stdout",
     "output_type": "stream",
     "text": [
      "Using matplotlib backend: Qt5Agg\n"
     ]
    }
   ],
   "source": [
    "%matplotlib\n",
    "import pandas as pd\n",
    "import numpy as np\n",
    "pd.options.display.max_rows=10"
   ]
  },
  {
   "cell_type": "markdown",
   "metadata": {},
   "source": [
    "# Load Datasets"
   ]
  },
  {
   "cell_type": "markdown",
   "metadata": {},
   "source": [
    "The data exploration suggested that the weather categories do not necessarily hold any useful information; therefore, only temperature and windspeed will be used for the weather conditions. Also, since the model will be tested by time step (explained later), rather than having a separate test set, only one set is necessary."
   ]
  },
  {
   "cell_type": "code",
   "execution_count": 2,
   "metadata": {},
   "outputs": [
    {
     "data": {
      "text/html": [
       "<div>\n",
       "<style scoped>\n",
       "    .dataframe tbody tr th:only-of-type {\n",
       "        vertical-align: middle;\n",
       "    }\n",
       "\n",
       "    .dataframe tbody tr th {\n",
       "        vertical-align: top;\n",
       "    }\n",
       "\n",
       "    .dataframe thead th {\n",
       "        text-align: right;\n",
       "    }\n",
       "</style>\n",
       "<table border=\"1\" class=\"dataframe\">\n",
       "  <thead>\n",
       "    <tr style=\"text-align: right;\">\n",
       "      <th></th>\n",
       "      <th>Time</th>\n",
       "      <th>Postmile (Abs)</th>\n",
       "      <th>Speed</th>\n",
       "      <th>Week</th>\n",
       "      <th>Flow</th>\n",
       "      <th>Occupancy</th>\n",
       "      <th>Truck Flow</th>\n",
       "      <th>Miles Traveled (Mean)</th>\n",
       "      <th>Accidents</th>\n",
       "      <th>Temperature</th>\n",
       "      <th>Windspeed</th>\n",
       "    </tr>\n",
       "  </thead>\n",
       "  <tbody>\n",
       "    <tr>\n",
       "      <th>0</th>\n",
       "      <td>0:00</td>\n",
       "      <td>53.02</td>\n",
       "      <td>69.17</td>\n",
       "      <td>1</td>\n",
       "      <td>1634</td>\n",
       "      <td>0.03</td>\n",
       "      <td>155</td>\n",
       "      <td>581738800</td>\n",
       "      <td>0.0</td>\n",
       "      <td>48.833333</td>\n",
       "      <td>2.333333</td>\n",
       "    </tr>\n",
       "    <tr>\n",
       "      <th>1</th>\n",
       "      <td>0:00</td>\n",
       "      <td>53.75</td>\n",
       "      <td>67.55</td>\n",
       "      <td>1</td>\n",
       "      <td>1646</td>\n",
       "      <td>0.03</td>\n",
       "      <td>63</td>\n",
       "      <td>581738800</td>\n",
       "      <td>0.0</td>\n",
       "      <td>48.833333</td>\n",
       "      <td>2.333333</td>\n",
       "    </tr>\n",
       "    <tr>\n",
       "      <th>2</th>\n",
       "      <td>0:00</td>\n",
       "      <td>54.06</td>\n",
       "      <td>67.82</td>\n",
       "      <td>1</td>\n",
       "      <td>1584</td>\n",
       "      <td>0.05</td>\n",
       "      <td>3</td>\n",
       "      <td>581738800</td>\n",
       "      <td>0.0</td>\n",
       "      <td>48.833333</td>\n",
       "      <td>2.333333</td>\n",
       "    </tr>\n",
       "    <tr>\n",
       "      <th>3</th>\n",
       "      <td>0:00</td>\n",
       "      <td>54.55</td>\n",
       "      <td>71.10</td>\n",
       "      <td>1</td>\n",
       "      <td>1671</td>\n",
       "      <td>0.02</td>\n",
       "      <td>235</td>\n",
       "      <td>581738800</td>\n",
       "      <td>0.0</td>\n",
       "      <td>48.833333</td>\n",
       "      <td>2.333333</td>\n",
       "    </tr>\n",
       "    <tr>\n",
       "      <th>4</th>\n",
       "      <td>0:00</td>\n",
       "      <td>54.87</td>\n",
       "      <td>65.68</td>\n",
       "      <td>1</td>\n",
       "      <td>1590</td>\n",
       "      <td>0.04</td>\n",
       "      <td>272</td>\n",
       "      <td>581738800</td>\n",
       "      <td>0.0</td>\n",
       "      <td>48.833333</td>\n",
       "      <td>2.333333</td>\n",
       "    </tr>\n",
       "    <tr>\n",
       "      <th>...</th>\n",
       "      <td>...</td>\n",
       "      <td>...</td>\n",
       "      <td>...</td>\n",
       "      <td>...</td>\n",
       "      <td>...</td>\n",
       "      <td>...</td>\n",
       "      <td>...</td>\n",
       "      <td>...</td>\n",
       "      <td>...</td>\n",
       "      <td>...</td>\n",
       "      <td>...</td>\n",
       "    </tr>\n",
       "    <tr>\n",
       "      <th>15043</th>\n",
       "      <td>23:00</td>\n",
       "      <td>55.31</td>\n",
       "      <td>65.42</td>\n",
       "      <td>57</td>\n",
       "      <td>2541</td>\n",
       "      <td>0.05</td>\n",
       "      <td>81</td>\n",
       "      <td>658290165</td>\n",
       "      <td>0.0</td>\n",
       "      <td>47.000000</td>\n",
       "      <td>1.500000</td>\n",
       "    </tr>\n",
       "    <tr>\n",
       "      <th>15044</th>\n",
       "      <td>23:00</td>\n",
       "      <td>55.89</td>\n",
       "      <td>66.72</td>\n",
       "      <td>57</td>\n",
       "      <td>3294</td>\n",
       "      <td>0.10</td>\n",
       "      <td>943</td>\n",
       "      <td>658290165</td>\n",
       "      <td>0.0</td>\n",
       "      <td>47.000000</td>\n",
       "      <td>1.500000</td>\n",
       "    </tr>\n",
       "    <tr>\n",
       "      <th>15045</th>\n",
       "      <td>23:00</td>\n",
       "      <td>56.97</td>\n",
       "      <td>68.26</td>\n",
       "      <td>57</td>\n",
       "      <td>1405</td>\n",
       "      <td>0.02</td>\n",
       "      <td>27</td>\n",
       "      <td>658290165</td>\n",
       "      <td>0.0</td>\n",
       "      <td>47.000000</td>\n",
       "      <td>1.500000</td>\n",
       "    </tr>\n",
       "    <tr>\n",
       "      <th>15046</th>\n",
       "      <td>23:00</td>\n",
       "      <td>57.80</td>\n",
       "      <td>68.30</td>\n",
       "      <td>57</td>\n",
       "      <td>1872</td>\n",
       "      <td>0.04</td>\n",
       "      <td>280</td>\n",
       "      <td>658290165</td>\n",
       "      <td>0.0</td>\n",
       "      <td>47.000000</td>\n",
       "      <td>1.500000</td>\n",
       "    </tr>\n",
       "    <tr>\n",
       "      <th>15047</th>\n",
       "      <td>23:00</td>\n",
       "      <td>57.86</td>\n",
       "      <td>68.28</td>\n",
       "      <td>57</td>\n",
       "      <td>1865</td>\n",
       "      <td>0.03</td>\n",
       "      <td>326</td>\n",
       "      <td>658290165</td>\n",
       "      <td>0.0</td>\n",
       "      <td>47.000000</td>\n",
       "      <td>1.500000</td>\n",
       "    </tr>\n",
       "  </tbody>\n",
       "</table>\n",
       "<p>15048 rows × 11 columns</p>\n",
       "</div>"
      ],
      "text/plain": [
       "        Time  Postmile (Abs)  Speed  Week  Flow  Occupancy  Truck Flow  \\\n",
       "0       0:00           53.02  69.17     1  1634       0.03         155   \n",
       "1       0:00           53.75  67.55     1  1646       0.03          63   \n",
       "2       0:00           54.06  67.82     1  1584       0.05           3   \n",
       "3       0:00           54.55  71.10     1  1671       0.02         235   \n",
       "4       0:00           54.87  65.68     1  1590       0.04         272   \n",
       "...      ...             ...    ...   ...   ...        ...         ...   \n",
       "15043  23:00           55.31  65.42    57  2541       0.05          81   \n",
       "15044  23:00           55.89  66.72    57  3294       0.10         943   \n",
       "15045  23:00           56.97  68.26    57  1405       0.02          27   \n",
       "15046  23:00           57.80  68.30    57  1872       0.04         280   \n",
       "15047  23:00           57.86  68.28    57  1865       0.03         326   \n",
       "\n",
       "       Miles Traveled (Mean)  Accidents  Temperature  Windspeed  \n",
       "0                  581738800        0.0    48.833333   2.333333  \n",
       "1                  581738800        0.0    48.833333   2.333333  \n",
       "2                  581738800        0.0    48.833333   2.333333  \n",
       "3                  581738800        0.0    48.833333   2.333333  \n",
       "4                  581738800        0.0    48.833333   2.333333  \n",
       "...                      ...        ...          ...        ...  \n",
       "15043              658290165        0.0    47.000000   1.500000  \n",
       "15044              658290165        0.0    47.000000   1.500000  \n",
       "15045              658290165        0.0    47.000000   1.500000  \n",
       "15046              658290165        0.0    47.000000   1.500000  \n",
       "15047              658290165        0.0    47.000000   1.500000  \n",
       "\n",
       "[15048 rows x 11 columns]"
      ]
     },
     "execution_count": 2,
     "metadata": {},
     "output_type": "execute_result"
    }
   ],
   "source": [
    "traffic_train = pd.read_csv('Traffic_Data/Traffic_Data_Train')\n",
    "traffic_test = pd.read_csv('Traffic_Data/Traffic_Data_Test')\n",
    "traffic_df = pd.concat([traffic_train, traffic_test], ignore_index=True)\n",
    "\n",
    "# drop weather categories\n",
    "traffic_df = traffic_df.iloc[:, :11]\n",
    "traffic_df"
   ]
  },
  {
   "cell_type": "markdown",
   "metadata": {},
   "source": [
    "# Preprocessing"
   ]
  },
  {
   "cell_type": "markdown",
   "metadata": {},
   "source": [
    "The data needs to be separated by postmile"
   ]
  },
  {
   "cell_type": "code",
   "execution_count": 3,
   "metadata": {},
   "outputs": [],
   "source": [
    "def separate_postmiles(df):\n",
    "    postmiles = []\n",
    "    \n",
    "    # iterate through posmiles and extract\n",
    "    for postmile in df['Postmile (Abs)'].unique():\n",
    "        postmiles.append(df.loc[\n",
    "            df['Postmile (Abs)'] == postmile]\n",
    "                         .reset_index(drop=True))\n",
    "    return postmiles"
   ]
  },
  {
   "cell_type": "code",
   "execution_count": 4,
   "metadata": {},
   "outputs": [],
   "source": [
    "postmiles_df = separate_postmiles(traffic_df)"
   ]
  },
  {
   "cell_type": "code",
   "execution_count": 5,
   "metadata": {},
   "outputs": [
    {
     "data": {
      "text/plain": [
       "(1368, 11)"
      ]
     },
     "execution_count": 5,
     "metadata": {},
     "output_type": "execute_result"
    }
   ],
   "source": [
    "postmiles_df[0].shape"
   ]
  },
  {
   "cell_type": "markdown",
   "metadata": {},
   "source": [
    "**Seaparate Postmiles**"
   ]
  },
  {
   "cell_type": "markdown",
   "metadata": {},
   "source": [
    "Separate the features that will be used as the past from those <br>\n",
    "that will be used from the future in order to convert the data <br>\n",
    "into an appropriate time series. "
   ]
  },
  {
   "cell_type": "code",
   "execution_count": 6,
   "metadata": {},
   "outputs": [
    {
     "data": {
      "text/plain": [
       "Index(['Time', 'Postmile (Abs)', 'Speed', 'Week', 'Flow', 'Occupancy',\n",
       "       'Truck Flow', 'Miles Traveled (Mean)', 'Accidents'],\n",
       "      dtype='object')"
      ]
     },
     "execution_count": 6,
     "metadata": {},
     "output_type": "execute_result"
    }
   ],
   "source": [
    "past_features = traffic_df.columns[:9]\n",
    "past_features"
   ]
  },
  {
   "cell_type": "code",
   "execution_count": 7,
   "metadata": {},
   "outputs": [
    {
     "data": {
      "text/plain": [
       "Index(['Temperature', 'Windspeed'], dtype='object')"
      ]
     },
     "execution_count": 7,
     "metadata": {},
     "output_type": "execute_result"
    }
   ],
   "source": [
    "future_features = traffic_df.columns[9:]\n",
    "future_features"
   ]
  },
  {
   "cell_type": "markdown",
   "metadata": {},
   "source": [
    "**Time Series Conversion**"
   ]
  },
  {
   "cell_type": "markdown",
   "metadata": {},
   "source": [
    "In order to convert my data into a time series, the label has to be a future event. <br>\n",
    "Therefore, the data has to be shifted by one, where the traffic features occur at time <br>\n",
    "(t) and the number of accidents (label) occur at time (t+1). The number of accidents <br>\n",
    "that occured at time (t) is also going to be used; therefore, the accidents column has <br>\n",
    "to be copied before shifting. Since the future weather is going to be used, it also needs <br>\n",
    "to be occuring at time (t+1). This method below implements this conversion."
   ]
  },
  {
   "cell_type": "code",
   "execution_count": 8,
   "metadata": {},
   "outputs": [],
   "source": [
    "def convert_to_time_series(df, label, future_features, past_features):\n",
    "    \n",
    "    # preserve current label value\n",
    "    future_label = str(label) + ' (t+1)'\n",
    "    df[future_label] = df[label]\n",
    "    \n",
    "    # inpute sequence (time t+1)\n",
    "    df[future_features] = df[future_features].shift(-1)\n",
    "    df[future_label] = df[future_label].shift(-1)\n",
    "    \n",
    "    # change column names\n",
    "    past_names = [name + ' (t)' for name in past_features.values]\n",
    "    future_names = [name + ' (t+1)' for name in future_features.values]\n",
    "    future_names.append(future_label)\n",
    "    df.columns = np.append(past_names, future_names)\n",
    "    return df"
   ]
  },
  {
   "cell_type": "code",
   "execution_count": 9,
   "metadata": {},
   "outputs": [],
   "source": [
    "def convert_each_postmile(df, label):\n",
    "    for postmile in df:\n",
    "        postmile = convert_to_time_series(postmile,\n",
    "                                          label,\n",
    "                                          future_features,\n",
    "                                          past_features)\n",
    "        # these feautures are not needed\n",
    "        postmile.drop(['Time (t)', 'Week (t)', 'Postmile (Abs) (t)'], axis=1, inplace=True)\n",
    "        postmile.dropna(inplace=True)\n",
    "    return df"
   ]
  },
  {
   "cell_type": "code",
   "execution_count": 10,
   "metadata": {
    "scrolled": false
   },
   "outputs": [],
   "source": [
    "postmiles_df = convert_each_postmile(postmiles_df, 'Accidents')"
   ]
  },
  {
   "cell_type": "markdown",
   "metadata": {},
   "source": [
    "Only postmile 55.89 is going to be used"
   ]
  },
  {
   "cell_type": "code",
   "execution_count": 11,
   "metadata": {},
   "outputs": [
    {
     "data": {
      "text/plain": [
       "array([53.02, 53.75, 54.06, 54.55, 54.87, 54.99, 55.31, 55.89, 56.97,\n",
       "       57.8 , 57.86])"
      ]
     },
     "execution_count": 11,
     "metadata": {},
     "output_type": "execute_result"
    }
   ],
   "source": [
    "traffic_df['Postmile (Abs)'].unique()"
   ]
  },
  {
   "cell_type": "code",
   "execution_count": 12,
   "metadata": {},
   "outputs": [],
   "source": [
    "postmile_df = postmiles_df[7]"
   ]
  },
  {
   "cell_type": "code",
   "execution_count": 13,
   "metadata": {},
   "outputs": [
    {
     "data": {
      "text/html": [
       "<div>\n",
       "<style scoped>\n",
       "    .dataframe tbody tr th:only-of-type {\n",
       "        vertical-align: middle;\n",
       "    }\n",
       "\n",
       "    .dataframe tbody tr th {\n",
       "        vertical-align: top;\n",
       "    }\n",
       "\n",
       "    .dataframe thead th {\n",
       "        text-align: right;\n",
       "    }\n",
       "</style>\n",
       "<table border=\"1\" class=\"dataframe\">\n",
       "  <thead>\n",
       "    <tr style=\"text-align: right;\">\n",
       "      <th></th>\n",
       "      <th>Time</th>\n",
       "      <th>Postmile (Abs)</th>\n",
       "      <th>Speed</th>\n",
       "      <th>Week</th>\n",
       "      <th>Flow</th>\n",
       "      <th>Occupancy</th>\n",
       "      <th>Truck Flow</th>\n",
       "      <th>Miles Traveled (Mean)</th>\n",
       "      <th>Accidents</th>\n",
       "      <th>Temperature</th>\n",
       "      <th>Windspeed</th>\n",
       "    </tr>\n",
       "  </thead>\n",
       "  <tbody>\n",
       "    <tr>\n",
       "      <th>7</th>\n",
       "      <td>0:00</td>\n",
       "      <td>55.89</td>\n",
       "      <td>68.07</td>\n",
       "      <td>1</td>\n",
       "      <td>4199</td>\n",
       "      <td>0.11</td>\n",
       "      <td>1528</td>\n",
       "      <td>581738800</td>\n",
       "      <td>0.0</td>\n",
       "      <td>48.833333</td>\n",
       "      <td>2.333333</td>\n",
       "    </tr>\n",
       "    <tr>\n",
       "      <th>18</th>\n",
       "      <td>1:00</td>\n",
       "      <td>55.89</td>\n",
       "      <td>67.88</td>\n",
       "      <td>1</td>\n",
       "      <td>3754</td>\n",
       "      <td>0.11</td>\n",
       "      <td>1490</td>\n",
       "      <td>473978751</td>\n",
       "      <td>0.0</td>\n",
       "      <td>49.000000</td>\n",
       "      <td>1.666667</td>\n",
       "    </tr>\n",
       "    <tr>\n",
       "      <th>29</th>\n",
       "      <td>2:00</td>\n",
       "      <td>55.89</td>\n",
       "      <td>67.00</td>\n",
       "      <td>1</td>\n",
       "      <td>3555</td>\n",
       "      <td>0.11</td>\n",
       "      <td>1461</td>\n",
       "      <td>404709163</td>\n",
       "      <td>1.0</td>\n",
       "      <td>47.833333</td>\n",
       "      <td>1.333333</td>\n",
       "    </tr>\n",
       "    <tr>\n",
       "      <th>40</th>\n",
       "      <td>3:00</td>\n",
       "      <td>55.89</td>\n",
       "      <td>67.83</td>\n",
       "      <td>1</td>\n",
       "      <td>3776</td>\n",
       "      <td>0.11</td>\n",
       "      <td>1484</td>\n",
       "      <td>430204301</td>\n",
       "      <td>0.0</td>\n",
       "      <td>44.666667</td>\n",
       "      <td>0.000000</td>\n",
       "    </tr>\n",
       "    <tr>\n",
       "      <th>51</th>\n",
       "      <td>4:00</td>\n",
       "      <td>55.89</td>\n",
       "      <td>69.07</td>\n",
       "      <td>1</td>\n",
       "      <td>4476</td>\n",
       "      <td>0.12</td>\n",
       "      <td>1551</td>\n",
       "      <td>703978875</td>\n",
       "      <td>0.0</td>\n",
       "      <td>44.166667</td>\n",
       "      <td>1.000000</td>\n",
       "    </tr>\n",
       "  </tbody>\n",
       "</table>\n",
       "</div>"
      ],
      "text/plain": [
       "    Time  Postmile (Abs)  Speed  Week  Flow  Occupancy  Truck Flow  \\\n",
       "7   0:00           55.89  68.07     1  4199       0.11        1528   \n",
       "18  1:00           55.89  67.88     1  3754       0.11        1490   \n",
       "29  2:00           55.89  67.00     1  3555       0.11        1461   \n",
       "40  3:00           55.89  67.83     1  3776       0.11        1484   \n",
       "51  4:00           55.89  69.07     1  4476       0.12        1551   \n",
       "\n",
       "    Miles Traveled (Mean)  Accidents  Temperature  Windspeed  \n",
       "7               581738800        0.0    48.833333   2.333333  \n",
       "18              473978751        0.0    49.000000   1.666667  \n",
       "29              404709163        1.0    47.833333   1.333333  \n",
       "40              430204301        0.0    44.666667   0.000000  \n",
       "51              703978875        0.0    44.166667   1.000000  "
      ]
     },
     "execution_count": 13,
     "metadata": {},
     "output_type": "execute_result"
    }
   ],
   "source": [
    "traffic_df.loc[traffic_df['Postmile (Abs)'] == 55.89].head()"
   ]
  },
  {
   "cell_type": "code",
   "execution_count": 14,
   "metadata": {},
   "outputs": [
    {
     "data": {
      "text/html": [
       "<div>\n",
       "<style scoped>\n",
       "    .dataframe tbody tr th:only-of-type {\n",
       "        vertical-align: middle;\n",
       "    }\n",
       "\n",
       "    .dataframe tbody tr th {\n",
       "        vertical-align: top;\n",
       "    }\n",
       "\n",
       "    .dataframe thead th {\n",
       "        text-align: right;\n",
       "    }\n",
       "</style>\n",
       "<table border=\"1\" class=\"dataframe\">\n",
       "  <thead>\n",
       "    <tr style=\"text-align: right;\">\n",
       "      <th></th>\n",
       "      <th>Speed (t)</th>\n",
       "      <th>Flow (t)</th>\n",
       "      <th>Occupancy (t)</th>\n",
       "      <th>Truck Flow (t)</th>\n",
       "      <th>Miles Traveled (Mean) (t)</th>\n",
       "      <th>Accidents (t)</th>\n",
       "      <th>Temperature (t+1)</th>\n",
       "      <th>Windspeed (t+1)</th>\n",
       "      <th>Accidents (t+1)</th>\n",
       "    </tr>\n",
       "  </thead>\n",
       "  <tbody>\n",
       "    <tr>\n",
       "      <th>0</th>\n",
       "      <td>68.07</td>\n",
       "      <td>4199</td>\n",
       "      <td>0.11</td>\n",
       "      <td>1528</td>\n",
       "      <td>581738800</td>\n",
       "      <td>0.0</td>\n",
       "      <td>49.000000</td>\n",
       "      <td>1.666667</td>\n",
       "      <td>0.0</td>\n",
       "    </tr>\n",
       "    <tr>\n",
       "      <th>1</th>\n",
       "      <td>67.88</td>\n",
       "      <td>3754</td>\n",
       "      <td>0.11</td>\n",
       "      <td>1490</td>\n",
       "      <td>473978751</td>\n",
       "      <td>0.0</td>\n",
       "      <td>47.833333</td>\n",
       "      <td>1.333333</td>\n",
       "      <td>1.0</td>\n",
       "    </tr>\n",
       "    <tr>\n",
       "      <th>2</th>\n",
       "      <td>67.00</td>\n",
       "      <td>3555</td>\n",
       "      <td>0.11</td>\n",
       "      <td>1461</td>\n",
       "      <td>404709163</td>\n",
       "      <td>1.0</td>\n",
       "      <td>44.666667</td>\n",
       "      <td>0.000000</td>\n",
       "      <td>0.0</td>\n",
       "    </tr>\n",
       "    <tr>\n",
       "      <th>3</th>\n",
       "      <td>67.83</td>\n",
       "      <td>3776</td>\n",
       "      <td>0.11</td>\n",
       "      <td>1484</td>\n",
       "      <td>430204301</td>\n",
       "      <td>0.0</td>\n",
       "      <td>44.166667</td>\n",
       "      <td>1.000000</td>\n",
       "      <td>0.0</td>\n",
       "    </tr>\n",
       "    <tr>\n",
       "      <th>4</th>\n",
       "      <td>69.07</td>\n",
       "      <td>4476</td>\n",
       "      <td>0.12</td>\n",
       "      <td>1551</td>\n",
       "      <td>703978875</td>\n",
       "      <td>0.0</td>\n",
       "      <td>43.833333</td>\n",
       "      <td>0.500000</td>\n",
       "      <td>0.0</td>\n",
       "    </tr>\n",
       "  </tbody>\n",
       "</table>\n",
       "</div>"
      ],
      "text/plain": [
       "   Speed (t)  Flow (t)  Occupancy (t)  Truck Flow (t)  \\\n",
       "0      68.07      4199           0.11            1528   \n",
       "1      67.88      3754           0.11            1490   \n",
       "2      67.00      3555           0.11            1461   \n",
       "3      67.83      3776           0.11            1484   \n",
       "4      69.07      4476           0.12            1551   \n",
       "\n",
       "   Miles Traveled (Mean) (t)  Accidents (t)  Temperature (t+1)  \\\n",
       "0                  581738800            0.0          49.000000   \n",
       "1                  473978751            0.0          47.833333   \n",
       "2                  404709163            1.0          44.666667   \n",
       "3                  430204301            0.0          44.166667   \n",
       "4                  703978875            0.0          43.833333   \n",
       "\n",
       "   Windspeed (t+1)  Accidents (t+1)  \n",
       "0         1.666667              0.0  \n",
       "1         1.333333              1.0  \n",
       "2         0.000000              0.0  \n",
       "3         1.000000              0.0  \n",
       "4         0.500000              0.0  "
      ]
     },
     "execution_count": 14,
     "metadata": {},
     "output_type": "execute_result"
    }
   ],
   "source": [
    "postmile_df.head()"
   ]
  },
  {
   "cell_type": "markdown",
   "metadata": {},
   "source": [
    "# Setup"
   ]
  },
  {
   "cell_type": "code",
   "execution_count": 15,
   "metadata": {},
   "outputs": [],
   "source": [
    "from sklearn.preprocessing import StandardScaler\n",
    "from sklearn.model_selection import cross_val_score\n",
    "from sklearn.pipeline import Pipeline\n",
    "from sklearn.model_selection import GridSearchCV\n",
    "from sklearn.model_selection import RandomizedSearchCV\n",
    "from sklearn.metrics import mean_squared_error"
   ]
  },
  {
   "cell_type": "markdown",
   "metadata": {},
   "source": [
    "**Backtesting (Rolling-Window Analysis)**"
   ]
  },
  {
   "cell_type": "markdown",
   "metadata": {},
   "source": [
    "Since the data is a time series, using cross validation is not advisable. The problem with cross validation is that it randomly selects a subset of the data. This suggests that the future values are going to be used to predict the past. Therefore, backtesting has to be implemented. Backtesting (Rolling-Window analysis) is a process where the first n examples are used to train a model, the model then makes a prediction for the next time step, then the number of examples is increased (the window is expanded) to include the ground truth value for the previous predicted time step, and the process is repeated. This allows for the proper evaluation of the model. This is the reason for having only one DataFrame with all the examples. The RMSE is then calculated from the predicted and ground truth values."
   ]
  },
  {
   "cell_type": "markdown",
   "metadata": {},
   "source": [
    "Note: <br>\n",
    "Since a separate model has to be fitted and trained for each predicted time step, the models below <br>\n",
    "will be doing mult-step forecasting, where they are going to be predicting multiple future time <br>\n",
    "steps rather than just one. This is simply for time convenience"
   ]
  },
  {
   "cell_type": "code",
   "execution_count": 16,
   "metadata": {},
   "outputs": [],
   "source": [
    "def prepare_test(df, label):\n",
    "    X = np.asarray(df.drop([label], axis=1).astype(float))\n",
    "    y = df[[label]].squeeze()\n",
    "    \n",
    "    # Feature Scaling\n",
    "    sc = StandardScaler()\n",
    "    X_SC = sc.fit_transform(X)\n",
    "    \n",
    "    return X_SC, y"
   ]
  },
  {
   "cell_type": "code",
   "execution_count": 17,
   "metadata": {},
   "outputs": [],
   "source": [
    "def run_model(model, df, label, n_hours, default=True, dim=False):\n",
    "    \n",
    "    # Create Training and Validation sets\n",
    "    X = np.asarray(df.drop([label], axis=1).astype(float))\n",
    "    y = df[[label]].squeeze()\n",
    "    \n",
    "    # backtesting\n",
    "    mse,model = backtest(model, X, y, n_hours, default, dim)\n",
    "    \n",
    "    print(\"RMSE: \", np.sqrt(mse))\n",
    "    return model"
   ]
  },
  {
   "cell_type": "code",
   "execution_count": 18,
   "metadata": {},
   "outputs": [],
   "source": [
    "def backtest(model, X, y, n_hours, default=True, dim=False):\n",
    "    y_pred = []\n",
    "    y_true = []\n",
    "\n",
    "    # time steps\n",
    "    steps=12\n",
    "    \n",
    "    # n hours represents the amount of hours \n",
    "    # that are going to be predicted\n",
    "    for hours in reversed(range(1,n_hours,steps)):\n",
    "        \n",
    "        # select the data before the hour that \n",
    "        # the model is predicting for\n",
    "        X_train = X[:len(X)-hours]\n",
    "        y_train = y[:len(y)-hours]\n",
    "        \n",
    "        # select the data from the hour\n",
    "        # to the number of steps that are going to \n",
    "        # be predicted concurrently\n",
    "        X_val = X[len(X)-hours:len(X)-hours+steps]\n",
    "        y_val = y[len(y)-hours:len(y)-hours+steps]\n",
    "        \n",
    "        # Feature Scaling\n",
    "        sc = StandardScaler()\n",
    "        X_trainSC = sc.fit_transform(X_train)\n",
    "        X_valSC = sc.transform(X_val)\n",
    "        \n",
    "        if default:\n",
    "            # Baseline implemenation\n",
    "            model.fit(X_trainSC, y_train)\n",
    "            y_pred.extend(model.predict(X_valSC))\n",
    "        else:\n",
    "            # RNN\n",
    "            pred, model = run_network(model, X_trainSC, y_train, X_valSC, dim)\n",
    "            y_pred.extend(pred.flatten())\n",
    "        \n",
    "        # add ground truth values\n",
    "        y_true.extend(y_val)\n",
    "        \n",
    "    # save to history\n",
    "    global pred_history, true_history\n",
    "    pred_history = y_pred\n",
    "    true_history = y_true\n",
    "        \n",
    "    return mean_squared_error(y_true, y_pred), model"
   ]
  },
  {
   "cell_type": "code",
   "execution_count": 19,
   "metadata": {},
   "outputs": [],
   "source": [
    "def run_network(model, X_train, y_train, X_val, dim=False):\n",
    "    n_steps = 1\n",
    "    n_features = X_train.shape[1]\n",
    "    \n",
    "    if dim:\n",
    "        # extra dimension is needed for TimeDistributed layer\n",
    "        X_train = X_train.reshape(X_train.shape[0], n_steps, n_features, 1)\n",
    "        X_val = X_val.reshape(X_val.shape[0], n_steps, n_features, 1)\n",
    "    else:\n",
    "        X_train = X_train.reshape(X_train.shape[0], n_steps, n_features)\n",
    "        X_val = X_val.reshape(X_val.shape[0], n_steps, n_features)\n",
    "        \n",
    "    model.fit(X_train,\n",
    "              y_train,\n",
    "              batch_size=512,\n",
    "              epochs=100,\n",
    "              verbose=False)\n",
    "    return model.predict(X_val), model"
   ]
  },
  {
   "cell_type": "code",
   "execution_count": 20,
   "metadata": {},
   "outputs": [],
   "source": [
    "def save_history():\n",
    "    global pred_history, true_history\n",
    "    \n",
    "    df = pd.DataFrame(np.transpose([pred_history, true_history]))\n",
    "    df.columns=['pred', 'true']\n",
    "    \n",
    "    # erase history\n",
    "    pred_hisotry = None\n",
    "    true_history = None\n",
    "    \n",
    "    return df"
   ]
  },
  {
   "cell_type": "markdown",
   "metadata": {},
   "source": [
    "# BaseLine Models"
   ]
  },
  {
   "cell_type": "code",
   "execution_count": 21,
   "metadata": {},
   "outputs": [],
   "source": [
    "from sklearn.linear_model import LinearRegression\n",
    "from sklearn.svm import SVR\n",
    "from sklearn.linear_model import Ridge\n",
    "from sklearn.ensemble import RandomForestRegressor"
   ]
  },
  {
   "cell_type": "code",
   "execution_count": 22,
   "metadata": {},
   "outputs": [
    {
     "name": "stderr",
     "output_type": "stream",
     "text": [
      "Using TensorFlow backend.\n"
     ]
    }
   ],
   "source": [
    "from keras.layers import Input, Conv1D, MaxPooling1D, Flatten, GlobalAveragePooling1D\n",
    "from keras.layers import LSTM, GRU, Dense, Dropout, TimeDistributed, average, concatenate\n",
    "from keras.models import Model\n",
    "from keras.optimizers import Adam"
   ]
  },
  {
   "cell_type": "code",
   "execution_count": 23,
   "metadata": {},
   "outputs": [],
   "source": [
    "label = 'Accidents (t+1)'\n",
    "n_hours = postmile_df.shape[0]-(24*38)"
   ]
  },
  {
   "cell_type": "code",
   "execution_count": 24,
   "metadata": {},
   "outputs": [],
   "source": [
    "pred_history = None\n",
    "true_history = None"
   ]
  },
  {
   "cell_type": "markdown",
   "metadata": {},
   "source": [
    "A series of baselines models were implemented but not necessarily fine tuned. <br>\n",
    "I focused most of my efforts on the last model."
   ]
  },
  {
   "cell_type": "markdown",
   "metadata": {},
   "source": [
    "# LR"
   ]
  },
  {
   "cell_type": "code",
   "execution_count": 25,
   "metadata": {
    "scrolled": true
   },
   "outputs": [
    {
     "name": "stdout",
     "output_type": "stream",
     "text": [
      "RMSE:  0.2959527802076873\n"
     ]
    }
   ],
   "source": [
    "lr_model = LinearRegression()\n",
    "lr_model = run_model(lr_model, postmile_df, label, n_hours)"
   ]
  },
  {
   "cell_type": "code",
   "execution_count": 26,
   "metadata": {
    "scrolled": true
   },
   "outputs": [
    {
     "data": {
      "text/plain": [
       "<matplotlib.axes._subplots.AxesSubplot at 0x1a2ddc7390>"
      ]
     },
     "execution_count": 26,
     "metadata": {},
     "output_type": "execute_result"
    },
    {
     "data": {
      "image/png": "[encoded data removed]",
      "text/plain": [
       "<Figure size 432x288 with 1 Axes>"
      ]
     },
     "metadata": {
      "needs_background": "light"
     },
     "output_type": "display_data"
    }
   ],
   "source": [
    "lr_history = save_history()\n",
    "lr_history.plot.line()"
   ]
  },
  {
   "cell_type": "markdown",
   "metadata": {},
   "source": [
    "# SVR_LINEAR"
   ]
  },
  {
   "cell_type": "code",
   "execution_count": 27,
   "metadata": {},
   "outputs": [
    {
     "name": "stdout",
     "output_type": "stream",
     "text": [
      "RMSE:  0.29698846860122197\n"
     ]
    }
   ],
   "source": [
    "svr_linear_model = SVR(kernel='linear', gamma='auto')\n",
    "svr_linear_model = run_model(svr_linear_model, postmile_df, label, n_hours)"
   ]
  },
  {
   "cell_type": "code",
   "execution_count": 28,
   "metadata": {},
   "outputs": [
    {
     "data": {
      "text/plain": [
       "<matplotlib.axes._subplots.AxesSubplot at 0x1a2e115048>"
      ]
     },
     "execution_count": 28,
     "metadata": {},
     "output_type": "execute_result"
    },
    {
     "data": {
      "image/png": "[encoded data removed]",
      "text/plain": [
       "<Figure size 432x288 with 1 Axes>"
      ]
     },
     "metadata": {
      "needs_background": "light"
     },
     "output_type": "display_data"
    }
   ],
   "source": [
    "svr_linear_history = save_history()\n",
    "svr_linear_history.plot.line()"
   ]
  },
  {
   "cell_type": "markdown",
   "metadata": {},
   "source": [
    "# SVR_RBF"
   ]
  },
  {
   "cell_type": "code",
   "execution_count": 29,
   "metadata": {},
   "outputs": [
    {
     "name": "stdout",
     "output_type": "stream",
     "text": [
      "RMSE:  0.2973684273819893\n"
     ]
    }
   ],
   "source": [
    "svr_rbf_model = SVR(gamma='auto')\n",
    "svr_rbf_model = run_model(svr_rbf_model, postmile_df, label, n_hours)"
   ]
  },
  {
   "cell_type": "code",
   "execution_count": 30,
   "metadata": {},
   "outputs": [
    {
     "data": {
      "text/plain": [
       "<matplotlib.axes._subplots.AxesSubplot at 0x1a2e2040f0>"
      ]
     },
     "execution_count": 30,
     "metadata": {},
     "output_type": "execute_result"
    },
    {
     "data": {
      "image/png": "[encoded data removed]",
      "text/plain": [
       "<Figure size 432x288 with 1 Axes>"
      ]
     },
     "metadata": {
      "needs_background": "light"
     },
     "output_type": "display_data"
    }
   ],
   "source": [
    "svr_rbf_history = save_history()\n",
    "svr_rbf_history.plot.line()"
   ]
  },
  {
   "cell_type": "markdown",
   "metadata": {},
   "source": [
    "# SVR_POLY"
   ]
  },
  {
   "cell_type": "code",
   "execution_count": 31,
   "metadata": {},
   "outputs": [
    {
     "name": "stdout",
     "output_type": "stream",
     "text": [
      "RMSE:  0.296801038897141\n"
     ]
    }
   ],
   "source": [
    "svr_poly_model = SVR(kernel='poly', gamma='auto')\n",
    "svr_poly_model = run_model(svr_poly_model, postmile_df, label, n_hours)"
   ]
  },
  {
   "cell_type": "code",
   "execution_count": 32,
   "metadata": {
    "scrolled": true
   },
   "outputs": [
    {
     "data": {
      "text/plain": [
       "<matplotlib.axes._subplots.AxesSubplot at 0x1a2e2e0f98>"
      ]
     },
     "execution_count": 32,
     "metadata": {},
     "output_type": "execute_result"
    },
    {
     "data": {
      "image/png": "[encoded data removed]",
      "text/plain": [
       "<Figure size 432x288 with 1 Axes>"
      ]
     },
     "metadata": {
      "needs_background": "light"
     },
     "output_type": "display_data"
    }
   ],
   "source": [
    "svr_poly_history = save_history()\n",
    "svr_poly_history.plot.line()"
   ]
  },
  {
   "cell_type": "markdown",
   "metadata": {},
   "source": [
    "# RIDGE"
   ]
  },
  {
   "cell_type": "code",
   "execution_count": 33,
   "metadata": {},
   "outputs": [
    {
     "name": "stdout",
     "output_type": "stream",
     "text": [
      "RMSE:  0.2958652715447477\n"
     ]
    }
   ],
   "source": [
    "ridge_model = Ridge()\n",
    "ridge_model = run_model(ridge_model, postmile_df, label, n_hours)"
   ]
  },
  {
   "cell_type": "code",
   "execution_count": 34,
   "metadata": {},
   "outputs": [
    {
     "data": {
      "text/plain": [
       "<matplotlib.axes._subplots.AxesSubplot at 0x1a2e2ca198>"
      ]
     },
     "execution_count": 34,
     "metadata": {},
     "output_type": "execute_result"
    },
    {
     "data": {
      "image/png": "[encoded data removed]",
      "text/plain": [
       "<Figure size 432x288 with 1 Axes>"
      ]
     },
     "metadata": {
      "needs_background": "light"
     },
     "output_type": "display_data"
    }
   ],
   "source": [
    "ridge_history = save_history()\n",
    "ridge_history.plot.line()"
   ]
  },
  {
   "cell_type": "markdown",
   "metadata": {},
   "source": [
    "# RFR"
   ]
  },
  {
   "cell_type": "code",
   "execution_count": 35,
   "metadata": {},
   "outputs": [
    {
     "name": "stdout",
     "output_type": "stream",
     "text": [
      "RMSE:  0.3115517523334165\n"
     ]
    }
   ],
   "source": [
    "rfr_model = RandomForestRegressor(n_estimators=100)\n",
    "rfr_model = run_model(rfr_model, postmile_df, label, n_hours)"
   ]
  },
  {
   "cell_type": "code",
   "execution_count": 36,
   "metadata": {},
   "outputs": [
    {
     "data": {
      "text/plain": [
       "<matplotlib.axes._subplots.AxesSubplot at 0x1a2f4d67f0>"
      ]
     },
     "execution_count": 36,
     "metadata": {},
     "output_type": "execute_result"
    },
    {
     "data": {
      "image/png": "[encoded data removed]",
      "text/plain": [
       "<Figure size 432x288 with 1 Axes>"
      ]
     },
     "metadata": {
      "needs_background": "light"
     },
     "output_type": "display_data"
    }
   ],
   "source": [
    "rfr_history = save_history()\n",
    "rfr_history.plot.line()"
   ]
  },
  {
   "cell_type": "markdown",
   "metadata": {},
   "source": [
    "# CNN_1"
   ]
  },
  {
   "cell_type": "code",
   "execution_count": 37,
   "metadata": {},
   "outputs": [],
   "source": [
    "n_steps = 1\n",
    "n_features = postmile_df.shape[1]-1"
   ]
  },
  {
   "cell_type": "code",
   "execution_count": 38,
   "metadata": {
    "scrolled": true
   },
   "outputs": [
    {
     "name": "stdout",
     "output_type": "stream",
     "text": [
      "_________________________________________________________________\n",
      "Layer (type)                 Output Shape              Param #   \n",
      "=================================================================\n",
      "input_1 (InputLayer)         (None, 1, 8)              0         \n",
      "_________________________________________________________________\n",
      "conv1d_1 (Conv1D)            (None, 1, 64)             576       \n",
      "_________________________________________________________________\n",
      "max_pooling1d_1 (MaxPooling1 (None, 1, 64)             0         \n",
      "_________________________________________________________________\n",
      "flatten_1 (Flatten)          (None, 64)                0         \n",
      "_________________________________________________________________\n",
      "dense_1 (Dense)              (None, 50)                3250      \n",
      "_________________________________________________________________\n",
      "dense_2 (Dense)              (None, 1)                 51        \n",
      "=================================================================\n",
      "Total params: 3,877\n",
      "Trainable params: 3,877\n",
      "Non-trainable params: 0\n",
      "_________________________________________________________________\n"
     ]
    }
   ],
   "source": [
    "inputs = Input(shape=(n_steps, n_features))\n",
    "x = Conv1D(64, 1, activation='relu')(inputs)\n",
    "x = MaxPooling1D(1)(x)\n",
    "x = Flatten()(x)\n",
    "x = Dense(50,activation='relu')(x)\n",
    "outputs = Dense(1, activation='linear')(x)\n",
    "cnn_model_1 = Model(inputs=inputs, outputs = outputs)\n",
    "\n",
    "cnn_model_1.summary()"
   ]
  },
  {
   "cell_type": "code",
   "execution_count": 39,
   "metadata": {
    "scrolled": true
   },
   "outputs": [
    {
     "name": "stdout",
     "output_type": "stream",
     "text": [
      "RMSE:  0.46309750837255115\n"
     ]
    }
   ],
   "source": [
    "cnn_model_1.compile(optimizer='adam', loss='mse')\n",
    "cnn_model_1 = run_model(cnn_model_1, \n",
    "                        postmile_df, \n",
    "                        label, n_hours, default=False)"
   ]
  },
  {
   "cell_type": "code",
   "execution_count": 40,
   "metadata": {
    "scrolled": false
   },
   "outputs": [
    {
     "data": {
      "text/plain": [
       "<matplotlib.axes._subplots.AxesSubplot at 0x1a2fb62cc0>"
      ]
     },
     "execution_count": 40,
     "metadata": {},
     "output_type": "execute_result"
    },
    {
     "data": {
      "image/png": "[encoded data removed]",
      "text/plain": [
       "<Figure size 432x288 with 1 Axes>"
      ]
     },
     "metadata": {
      "needs_background": "light"
     },
     "output_type": "display_data"
    }
   ],
   "source": [
    "cnn_1_history = save_history()\n",
    "cnn_1_history.plot.line()"
   ]
  },
  {
   "cell_type": "markdown",
   "metadata": {},
   "source": [
    "# CNN_2"
   ]
  },
  {
   "cell_type": "code",
   "execution_count": 41,
   "metadata": {
    "scrolled": false
   },
   "outputs": [
    {
     "name": "stdout",
     "output_type": "stream",
     "text": [
      "_________________________________________________________________\n",
      "Layer (type)                 Output Shape              Param #   \n",
      "=================================================================\n",
      "input_2 (InputLayer)         (None, 1, 8)              0         \n",
      "_________________________________________________________________\n",
      "conv1d_2 (Conv1D)            (None, 1, 128)            1152      \n",
      "_________________________________________________________________\n",
      "max_pooling1d_2 (MaxPooling1 (None, 1, 128)            0         \n",
      "_________________________________________________________________\n",
      "flatten_2 (Flatten)          (None, 128)               0         \n",
      "_________________________________________________________________\n",
      "dense_3 (Dense)              (None, 128)               16512     \n",
      "_________________________________________________________________\n",
      "dense_4 (Dense)              (None, 64)                8256      \n",
      "_________________________________________________________________\n",
      "dense_5 (Dense)              (None, 1)                 65        \n",
      "=================================================================\n",
      "Total params: 25,985\n",
      "Trainable params: 25,985\n",
      "Non-trainable params: 0\n",
      "_________________________________________________________________\n"
     ]
    }
   ],
   "source": [
    "inputs = Input(shape=(n_steps, n_features))\n",
    "x = Conv1D(128, 1, activation='relu')(inputs)\n",
    "x = MaxPooling1D(1)(x)\n",
    "x = Flatten()(x)\n",
    "x = Dense(128,activation='relu')(x)\n",
    "x = Dense(64, activation='relu')(x)\n",
    "outputs = Dense(1, activation='linear')(x)\n",
    "cnn_model_2 = Model(inputs=inputs, outputs = outputs)\n",
    "\n",
    "cnn_model_2.summary()"
   ]
  },
  {
   "cell_type": "code",
   "execution_count": 42,
   "metadata": {},
   "outputs": [
    {
     "name": "stdout",
     "output_type": "stream",
     "text": [
      "RMSE:  0.3896295518125137\n"
     ]
    }
   ],
   "source": [
    "cnn_model_2.compile(optimizer='RMSprop', loss='mse')\n",
    "cnn_model_2 = run_model(cnn_model_2, \n",
    "                        postmile_df, \n",
    "                        label, n_hours, default=False)"
   ]
  },
  {
   "cell_type": "code",
   "execution_count": 43,
   "metadata": {},
   "outputs": [
    {
     "data": {
      "text/plain": [
       "<matplotlib.axes._subplots.AxesSubplot at 0x1a34eb2518>"
      ]
     },
     "execution_count": 43,
     "metadata": {},
     "output_type": "execute_result"
    },
    {
     "data": {
      "image/png": "[encoded data removed]",
      "text/plain": [
       "<Figure size 432x288 with 1 Axes>"
      ]
     },
     "metadata": {
      "needs_background": "light"
     },
     "output_type": "display_data"
    }
   ],
   "source": [
    "cnn_2_history = save_history()\n",
    "cnn_2_history.plot.line()"
   ]
  },
  {
   "cell_type": "markdown",
   "metadata": {},
   "source": [
    "# LSTM_1"
   ]
  },
  {
   "cell_type": "code",
   "execution_count": 43,
   "metadata": {
    "scrolled": true
   },
   "outputs": [
    {
     "name": "stdout",
     "output_type": "stream",
     "text": [
      "_________________________________________________________________\n",
      "Layer (type)                 Output Shape              Param #   \n",
      "=================================================================\n",
      "input_3 (InputLayer)         (None, 1, 8)              0         \n",
      "_________________________________________________________________\n",
      "lstm_1 (LSTM)                (None, 50)                11800     \n",
      "_________________________________________________________________\n",
      "dense_6 (Dense)              (None, 1)                 51        \n",
      "=================================================================\n",
      "Total params: 11,851\n",
      "Trainable params: 11,851\n",
      "Non-trainable params: 0\n",
      "_________________________________________________________________\n"
     ]
    }
   ],
   "source": [
    "inputs = Input(shape=(n_steps, n_features))\n",
    "x = LSTM(50)(inputs)\n",
    "outputs = Dense(1, activation='linear')(x)\n",
    "lstm_1_model = Model(inputs=inputs, outputs=outputs)\n",
    "lstm_1_model.summary()"
   ]
  },
  {
   "cell_type": "code",
   "execution_count": 44,
   "metadata": {
    "scrolled": true
   },
   "outputs": [
    {
     "name": "stdout",
     "output_type": "stream",
     "text": [
      "RMSE:  0.3181474513392005\n"
     ]
    }
   ],
   "source": [
    "lstm_1_model.compile(optimizer='RMSprop', loss='mse')\n",
    "lstm_1_model = run_model(lstm_1_model, \n",
    "                         postmile_df, \n",
    "                         label, n_hours, default=False)"
   ]
  },
  {
   "cell_type": "code",
   "execution_count": 45,
   "metadata": {
    "scrolled": true
   },
   "outputs": [
    {
     "data": {
      "text/plain": [
       "<matplotlib.axes._subplots.AxesSubplot at 0x11d432358>"
      ]
     },
     "execution_count": 45,
     "metadata": {},
     "output_type": "execute_result"
    },
    {
     "data": {
      "image/png": "[encoded data removed]",
      "text/plain": [
       "<Figure size 432x288 with 1 Axes>"
      ]
     },
     "metadata": {
      "needs_background": "light"
     },
     "output_type": "display_data"
    }
   ],
   "source": [
    "lstm_1_history = save_history()\n",
    "lstm_1_history.plot.line()"
   ]
  },
  {
   "cell_type": "markdown",
   "metadata": {},
   "source": [
    "# LSTM_2"
   ]
  },
  {
   "cell_type": "code",
   "execution_count": 46,
   "metadata": {
    "scrolled": false
   },
   "outputs": [
    {
     "name": "stdout",
     "output_type": "stream",
     "text": [
      "_________________________________________________________________\n",
      "Layer (type)                 Output Shape              Param #   \n",
      "=================================================================\n",
      "input_4 (InputLayer)         (None, 1, 8)              0         \n",
      "_________________________________________________________________\n",
      "lstm_2 (LSTM)                (None, 1, 128)            70144     \n",
      "_________________________________________________________________\n",
      "dropout_1 (Dropout)          (None, 1, 128)            0         \n",
      "_________________________________________________________________\n",
      "lstm_3 (LSTM)                (None, 128)               131584    \n",
      "_________________________________________________________________\n",
      "dropout_2 (Dropout)          (None, 128)               0         \n",
      "_________________________________________________________________\n",
      "dense_7 (Dense)              (None, 64)                8256      \n",
      "_________________________________________________________________\n",
      "dropout_3 (Dropout)          (None, 64)                0         \n",
      "_________________________________________________________________\n",
      "dense_8 (Dense)              (None, 1)                 65        \n",
      "=================================================================\n",
      "Total params: 210,049\n",
      "Trainable params: 210,049\n",
      "Non-trainable params: 0\n",
      "_________________________________________________________________\n"
     ]
    }
   ],
   "source": [
    "inputs = Input(shape=(n_steps, n_features))\n",
    "x = LSTM(128, activation='relu', return_sequences=True)(inputs)\n",
    "x = Dropout(0.2)(x)\n",
    "\n",
    "x = LSTM(128, activation='relu')(x)\n",
    "x = Dropout(0.1)(x)\n",
    "\n",
    "x = Dense(64, activation='relu')(x)\n",
    "x = Dropout(0.2)(x)\n",
    "\n",
    "outputs = Dense(1, activation='linear')(x)\n",
    "lstm_model_2 = Model(inputs=inputs, outputs=outputs)\n",
    "lstm_model_2.summary()"
   ]
  },
  {
   "cell_type": "code",
   "execution_count": 47,
   "metadata": {
    "scrolled": true
   },
   "outputs": [
    {
     "name": "stdout",
     "output_type": "stream",
     "text": [
      "RMSE:  0.3196277130624804\n"
     ]
    }
   ],
   "source": [
    "lstm_model_2.compile(optimizer='adam', loss='mse')\n",
    "lstm_model_2 = run_model(lstm_model_2, \n",
    "                         postmile_df, \n",
    "                         label, n_hours, default=False)"
   ]
  },
  {
   "cell_type": "code",
   "execution_count": 48,
   "metadata": {},
   "outputs": [
    {
     "data": {
      "text/plain": [
       "<matplotlib.axes._subplots.AxesSubplot at 0x1a37221cc0>"
      ]
     },
     "execution_count": 48,
     "metadata": {},
     "output_type": "execute_result"
    },
    {
     "data": {
      "image/png": "[encoded data removed]",
      "text/plain": [
       "<Figure size 432x288 with 1 Axes>"
      ]
     },
     "metadata": {
      "needs_background": "light"
     },
     "output_type": "display_data"
    }
   ],
   "source": [
    "lstm_2_history = save_history()\n",
    "lstm_2_history.plot.line()"
   ]
  },
  {
   "cell_type": "markdown",
   "metadata": {},
   "source": [
    "# GRU"
   ]
  },
  {
   "cell_type": "code",
   "execution_count": 49,
   "metadata": {
    "scrolled": false
   },
   "outputs": [
    {
     "name": "stdout",
     "output_type": "stream",
     "text": [
      "_________________________________________________________________\n",
      "Layer (type)                 Output Shape              Param #   \n",
      "=================================================================\n",
      "input_5 (InputLayer)         (None, 1, 8)              0         \n",
      "_________________________________________________________________\n",
      "gru_1 (GRU)                  (None, 1, 128)            52608     \n",
      "_________________________________________________________________\n",
      "dropout_4 (Dropout)          (None, 1, 128)            0         \n",
      "_________________________________________________________________\n",
      "gru_2 (GRU)                  (None, 128)               98688     \n",
      "_________________________________________________________________\n",
      "dropout_5 (Dropout)          (None, 128)               0         \n",
      "_________________________________________________________________\n",
      "dense_9 (Dense)              (None, 64)                8256      \n",
      "_________________________________________________________________\n",
      "dropout_6 (Dropout)          (None, 64)                0         \n",
      "_________________________________________________________________\n",
      "dense_10 (Dense)             (None, 1)                 65        \n",
      "=================================================================\n",
      "Total params: 159,617\n",
      "Trainable params: 159,617\n",
      "Non-trainable params: 0\n",
      "_________________________________________________________________\n"
     ]
    }
   ],
   "source": [
    "inputs = Input(shape=(n_steps, n_features))\n",
    "x = GRU(128, activation='relu', return_sequences=True)(inputs)\n",
    "x = Dropout(0.15)(x)\n",
    "\n",
    "x = GRU(128, activation='relu')(x)\n",
    "x = Dropout(0.15)(x)\n",
    "\n",
    "x = Dense(64, activation='relu')(x)\n",
    "x = Dropout(.1)(x)\n",
    "\n",
    "outputs = Dense(1, activation='linear')(x)\n",
    "gru_model = Model(inputs=inputs, outputs=outputs)\n",
    "gru_model.summary()"
   ]
  },
  {
   "cell_type": "code",
   "execution_count": 50,
   "metadata": {},
   "outputs": [
    {
     "name": "stdout",
     "output_type": "stream",
     "text": [
      "RMSE:  0.30722330985785595\n"
     ]
    }
   ],
   "source": [
    "gru_model.compile(optimizer='RMSprop', loss='mse')\n",
    "gru_model = run_model(gru_model, \n",
    "                      postmile_df, \n",
    "                      label, n_hours, default=False)"
   ]
  },
  {
   "cell_type": "code",
   "execution_count": 51,
   "metadata": {
    "scrolled": true
   },
   "outputs": [
    {
     "data": {
      "text/plain": [
       "<matplotlib.axes._subplots.AxesSubplot at 0x1a3425f320>"
      ]
     },
     "execution_count": 51,
     "metadata": {},
     "output_type": "execute_result"
    },
    {
     "data": {
      "image/png": "[encoded data removed]",
      "text/plain": [
       "<Figure size 432x288 with 1 Axes>"
      ]
     },
     "metadata": {
      "needs_background": "light"
     },
     "output_type": "display_data"
    }
   ],
   "source": [
    "gru_history = save_history()\n",
    "gru_history.plot.line()"
   ]
  },
  {
   "cell_type": "markdown",
   "metadata": {},
   "source": [
    "# CNN-LSTM"
   ]
  },
  {
   "cell_type": "code",
   "execution_count": 52,
   "metadata": {
    "scrolled": false
   },
   "outputs": [
    {
     "name": "stdout",
     "output_type": "stream",
     "text": [
      "_________________________________________________________________\n",
      "Layer (type)                 Output Shape              Param #   \n",
      "=================================================================\n",
      "input_6 (InputLayer)         (None, 1, 8)              0         \n",
      "_________________________________________________________________\n",
      "conv1d_3 (Conv1D)            (None, 1, 64)             576       \n",
      "_________________________________________________________________\n",
      "max_pooling1d_3 (MaxPooling1 (None, 1, 64)             0         \n",
      "_________________________________________________________________\n",
      "lstm_4 (LSTM)                (None, 1, 128)            98816     \n",
      "_________________________________________________________________\n",
      "dropout_7 (Dropout)          (None, 1, 128)            0         \n",
      "_________________________________________________________________\n",
      "lstm_5 (LSTM)                (None, 128)               131584    \n",
      "_________________________________________________________________\n",
      "dropout_8 (Dropout)          (None, 128)               0         \n",
      "_________________________________________________________________\n",
      "dense_11 (Dense)             (None, 64)                8256      \n",
      "_________________________________________________________________\n",
      "dropout_9 (Dropout)          (None, 64)                0         \n",
      "_________________________________________________________________\n",
      "dense_12 (Dense)             (None, 1)                 65        \n",
      "=================================================================\n",
      "Total params: 239,297\n",
      "Trainable params: 239,297\n",
      "Non-trainable params: 0\n",
      "_________________________________________________________________\n"
     ]
    }
   ],
   "source": [
    "inputs = Input(shape=(n_steps, n_features))\n",
    "#cnn\n",
    "x = Conv1D(64, 1, activation='relu')(inputs)\n",
    "x = MaxPooling1D(1)(x)\n",
    "\n",
    "#LSTM\n",
    "x = LSTM(128, activation='relu', return_sequences=True)(x)\n",
    "x = Dropout(0.2)(x)\n",
    "\n",
    "x = LSTM(128, activation='relu')(x)\n",
    "x = Dropout(0.1)(x)\n",
    "\n",
    "x = Dense(64, activation='relu')(x)\n",
    "x = Dropout(0.2)(x)\n",
    "\n",
    "outputs = Dense(1, activation='linear')(x)\n",
    "cnn_lstm_model = Model(inputs=inputs, outputs = outputs)\n",
    "\n",
    "cnn_lstm_model.summary()"
   ]
  },
  {
   "cell_type": "code",
   "execution_count": 53,
   "metadata": {},
   "outputs": [
    {
     "name": "stdout",
     "output_type": "stream",
     "text": [
      "RMSE:  0.32857486348939047\n"
     ]
    }
   ],
   "source": [
    "cnn_lstm_model.compile(optimizer='RMSprop', loss='mse')\n",
    "cnn_lstm_model = run_model(cnn_lstm_model, \n",
    "                           postmile_df, \n",
    "                           label, n_hours, default=False)"
   ]
  },
  {
   "cell_type": "code",
   "execution_count": 54,
   "metadata": {},
   "outputs": [
    {
     "data": {
      "text/plain": [
       "<matplotlib.axes._subplots.AxesSubplot at 0x1a393e33c8>"
      ]
     },
     "execution_count": 54,
     "metadata": {},
     "output_type": "execute_result"
    },
    {
     "data": {
      "image/png": "[encoded data removed]",
      "text/plain": [
       "<Figure size 432x288 with 1 Axes>"
      ]
     },
     "metadata": {
      "needs_background": "light"
     },
     "output_type": "display_data"
    }
   ],
   "source": [
    "cnn_lstm_history = save_history()\n",
    "cnn_lstm_history.plot.line()"
   ]
  },
  {
   "cell_type": "markdown",
   "metadata": {},
   "source": [
    "# CNN-GRU_1"
   ]
  },
  {
   "cell_type": "code",
   "execution_count": 55,
   "metadata": {
    "scrolled": false
   },
   "outputs": [
    {
     "name": "stdout",
     "output_type": "stream",
     "text": [
      "_________________________________________________________________\n",
      "Layer (type)                 Output Shape              Param #   \n",
      "=================================================================\n",
      "input_7 (InputLayer)         (None, 1, 8)              0         \n",
      "_________________________________________________________________\n",
      "conv1d_4 (Conv1D)            (None, 1, 64)             576       \n",
      "_________________________________________________________________\n",
      "max_pooling1d_4 (MaxPooling1 (None, 1, 64)             0         \n",
      "_________________________________________________________________\n",
      "gru_3 (GRU)                  (None, 1, 128)            74112     \n",
      "_________________________________________________________________\n",
      "dropout_10 (Dropout)         (None, 1, 128)            0         \n",
      "_________________________________________________________________\n",
      "gru_4 (GRU)                  (None, 128)               98688     \n",
      "_________________________________________________________________\n",
      "dropout_11 (Dropout)         (None, 128)               0         \n",
      "_________________________________________________________________\n",
      "dense_13 (Dense)             (None, 64)                8256      \n",
      "_________________________________________________________________\n",
      "dropout_12 (Dropout)         (None, 64)                0         \n",
      "_________________________________________________________________\n",
      "dense_14 (Dense)             (None, 1)                 65        \n",
      "=================================================================\n",
      "Total params: 181,697\n",
      "Trainable params: 181,697\n",
      "Non-trainable params: 0\n",
      "_________________________________________________________________\n"
     ]
    }
   ],
   "source": [
    "inputs = Input(shape=(n_steps, n_features))\n",
    "#cnn\n",
    "x = Conv1D(64, 1, activation='relu')(inputs)\n",
    "x = MaxPooling1D(1)(x)\n",
    "\n",
    "#LSTM\n",
    "x = GRU(128, activation='relu', return_sequences=True)(x)\n",
    "x = Dropout(0.2)(x)\n",
    "\n",
    "x = GRU(128, activation='relu')(x)\n",
    "x = Dropout(0.1)(x)\n",
    "\n",
    "x = Dense(64, activation='relu')(x)\n",
    "x = Dropout(0.2)(x)\n",
    "\n",
    "outputs = Dense(1, activation='linear')(x)\n",
    "cnn_gru_1_model = Model(inputs=inputs, outputs = outputs)\n",
    "\n",
    "cnn_gru_1_model.summary()"
   ]
  },
  {
   "cell_type": "code",
   "execution_count": 56,
   "metadata": {
    "scrolled": false
   },
   "outputs": [
    {
     "name": "stdout",
     "output_type": "stream",
     "text": [
      "RMSE:  0.32471306525534904\n"
     ]
    }
   ],
   "source": [
    "cnn_gru_1_model.compile(optimizer='RMSprop', loss='mse')\n",
    "cnn_gru_1_model = run_model(cnn_gru_1_model, \n",
    "                            postmile_df, \n",
    "                            label, n_hours, default=False)"
   ]
  },
  {
   "cell_type": "code",
   "execution_count": 57,
   "metadata": {
    "scrolled": true
   },
   "outputs": [
    {
     "data": {
      "text/plain": [
       "<matplotlib.axes._subplots.AxesSubplot at 0x1a3b0b12e8>"
      ]
     },
     "execution_count": 57,
     "metadata": {},
     "output_type": "execute_result"
    },
    {
     "data": {
      "image/png": "[encoded data removed]",
      "text/plain": [
       "<Figure size 432x288 with 1 Axes>"
      ]
     },
     "metadata": {
      "needs_background": "light"
     },
     "output_type": "display_data"
    }
   ],
   "source": [
    "cnn_gru_1_history = save_history()\n",
    "cnn_gru_1_history.plot.line()"
   ]
  },
  {
   "cell_type": "markdown",
   "metadata": {},
   "source": [
    "# CNN-GRU_2"
   ]
  },
  {
   "cell_type": "code",
   "execution_count": 58,
   "metadata": {
    "scrolled": false
   },
   "outputs": [
    {
     "name": "stdout",
     "output_type": "stream",
     "text": [
      "_________________________________________________________________\n",
      "Layer (type)                 Output Shape              Param #   \n",
      "=================================================================\n",
      "input_8 (InputLayer)         (None, 1, 8, 1)           0         \n",
      "_________________________________________________________________\n",
      "time_distributed_1 (TimeDist (None, 1, 8, 128)         256       \n",
      "_________________________________________________________________\n",
      "time_distributed_2 (TimeDist (None, 1, 8, 128)         0         \n",
      "_________________________________________________________________\n",
      "time_distributed_3 (TimeDist (None, 1, 1024)           0         \n",
      "_________________________________________________________________\n",
      "gru_5 (GRU)                  (None, 1, 128)            442752    \n",
      "_________________________________________________________________\n",
      "dropout_13 (Dropout)         (None, 1, 128)            0         \n",
      "_________________________________________________________________\n",
      "gru_6 (GRU)                  (None, 1, 128)            98688     \n",
      "_________________________________________________________________\n",
      "dropout_14 (Dropout)         (None, 1, 128)            0         \n",
      "_________________________________________________________________\n",
      "flatten_4 (Flatten)          (None, 128)               0         \n",
      "_________________________________________________________________\n",
      "dense_15 (Dense)             (None, 128)               16512     \n",
      "_________________________________________________________________\n",
      "dropout_15 (Dropout)         (None, 128)               0         \n",
      "_________________________________________________________________\n",
      "dense_16 (Dense)             (None, 64)                8256      \n",
      "_________________________________________________________________\n",
      "dropout_16 (Dropout)         (None, 64)                0         \n",
      "_________________________________________________________________\n",
      "dense_17 (Dense)             (None, 1)                 65        \n",
      "=================================================================\n",
      "Total params: 566,529\n",
      "Trainable params: 566,529\n",
      "Non-trainable params: 0\n",
      "_________________________________________________________________\n"
     ]
    }
   ],
   "source": [
    "inputs = Input(shape=(n_steps, n_features, 1))\n",
    "#cnn\n",
    "x = TimeDistributed(Conv1D(128, 1, activation='relu'))(inputs)\n",
    "x = TimeDistributed(MaxPooling1D(1))(x)\n",
    "x = TimeDistributed(Flatten())(x)\n",
    "\n",
    "#GRU\n",
    "x = GRU(128, activation='relu', return_sequences=True)(x)\n",
    "x = Dropout(0.2)(x)\n",
    "x = GRU(128, activation='relu', return_sequences=True)(x)\n",
    "x = Dropout(0.2)(x)\n",
    "x = Flatten()(x)\n",
    "\n",
    "x = Dense(128, activation='relu')(x)\n",
    "x = Dropout(0.2)(x)\n",
    "\n",
    "x = Dense(64, activation='relu')(x)\n",
    "x = Dropout(0.2)(x)\n",
    "\n",
    "outputs = Dense(1, activation='linear')(x)\n",
    "cnn_gru_2_model = Model(inputs=inputs, outputs = outputs)\n",
    "\n",
    "cnn_gru_2_model.summary()"
   ]
  },
  {
   "cell_type": "code",
   "execution_count": 59,
   "metadata": {
    "scrolled": false
   },
   "outputs": [
    {
     "name": "stdout",
     "output_type": "stream",
     "text": [
      "RMSE:  0.3532502726754906\n"
     ]
    }
   ],
   "source": [
    "cnn_gru_2_model.compile(optimizer='RMSprop', loss='mse')\n",
    "cnn_gru_2_model = run_model(cnn_gru_2_model, \n",
    "                            postmile_df, \n",
    "                            label, n_hours, default=False, dim=True)"
   ]
  },
  {
   "cell_type": "code",
   "execution_count": 60,
   "metadata": {},
   "outputs": [
    {
     "data": {
      "text/plain": [
       "<matplotlib.axes._subplots.AxesSubplot at 0x1a3cf646d8>"
      ]
     },
     "execution_count": 60,
     "metadata": {},
     "output_type": "execute_result"
    },
    {
     "data": {
      "image/png": "[encoded data removed]",
      "text/plain": [
       "<Figure size 432x288 with 1 Axes>"
      ]
     },
     "metadata": {
      "needs_background": "light"
     },
     "output_type": "display_data"
    }
   ],
   "source": [
    "cnn_gru_2_history = save_history()\n",
    "cnn_gru_2_history.plot.line()"
   ]
  },
  {
   "cell_type": "markdown",
   "metadata": {},
   "source": [
    "# HMDLF"
   ]
  },
  {
   "cell_type": "markdown",
   "metadata": {},
   "source": [
    "Most of my efforts were spent implementing and tuning this model as I believed it would be a good learning experience. This model is a mutlimodal network that utilizes both LSTMs as well as CNNs. The LSTM allows the modal to capture any temporal relationships, such as going from one hour to the next. The CNN allows it to capture any spatial relationships such as those seen with vehicle speed and traffic flow. This network was purposed and used for a very similar task, that of predicting traffic flow. Below is the link to the research paper for more details. I wanted to see if such network was able to translate to predicting how many accidents would occur as well as if it could deal with the time distortion problem mentioned in the beginning of this section.\n",
    "\n",
    "A Hybrid Method for Traffic Flow Forecasting Using Multimodal Deep Learning: <br>\n",
    "https://arxiv.org/pdf/1803.02099.pdf"
   ]
  },
  {
   "cell_type": "code",
   "execution_count": 61,
   "metadata": {
    "scrolled": false
   },
   "outputs": [],
   "source": [
    "modalities = []\n",
    "diff_inputs = []\n",
    "\n",
    "# split dataframe by feature\n",
    "# each feature will be its own network and then\n",
    "# all the models will be joined to form one mulitmodal\n",
    "# network\n",
    "for features in postmile_df.iloc[:, :8].columns:\n",
    "    inputs = Input(shape=(n_steps, 1, 1))\n",
    "    \n",
    "    #cnn\n",
    "    x = TimeDistributed(Conv1D(64, 1, activation='relu'))(inputs)\n",
    "    x = TimeDistributed(MaxPooling1D(1))(x)\n",
    "    x = TimeDistributed(Flatten())(x)\n",
    "\n",
    "    # LSTM is used instead of GRU\n",
    "    x = LSTM(128, activation='relu', return_sequences=True)(x)\n",
    "    x = LSTM(128, activation='relu', return_sequences=True)(x)\n",
    "    x = Flatten()(x)\n",
    "\n",
    "    modalities.append(x)\n",
    "    diff_inputs.append(inputs)\n",
    "\n",
    "# joint the networks\n",
    "multimodal = concatenate(modalities)\n",
    "x = Dense(64, activation='relu')(x)\n",
    "outputs = Dense(1, activation='linear')(x)\n",
    "\n",
    "# final model\n",
    "hybrid = Model(inputs=diff_inputs, outputs=outputs)"
   ]
  },
  {
   "cell_type": "code",
   "execution_count": 62,
   "metadata": {},
   "outputs": [],
   "source": [
    "# Different testing method due to the modalities\n",
    "def test_multiModal(model, X, y):\n",
    "    y_pred = []\n",
    "    y_true = []\n",
    "    \n",
    "    # prevent errors\n",
    "    X = X.astype(float)\n",
    "\n",
    "    # time steps\n",
    "    steps=12\n",
    "    \n",
    "    # n_hours represents the amount of hours\n",
    "    # that are goint to be predicted\n",
    "    sc = StandardScaler()\n",
    "    for hours in reversed(range(1,n_hours,steps)):\n",
    "        \n",
    "        # select the data before the hour that \n",
    "        # the model is predicting for\n",
    "        X_train = X[:len(X)-hours]\n",
    "        y_train = y[:len(y)-hours]\n",
    "        \n",
    "        # select the data from the hour\n",
    "        # to the number of steps that are going to \n",
    "        # be predicted concurrently\n",
    "        X_val = X[len(X)-hours:len(X)-hours+steps]\n",
    "        y_val = y[len(y)-hours:len(y)-hours+steps]\n",
    "              \n",
    "        # Feature Scaling\n",
    "        X_trainSC = sc.fit_transform(X_train)\n",
    "        X_valSC = sc.transform(X_val)\n",
    "        \n",
    "        # Dimensions\n",
    "        n_examples = X_train.shape[0]\n",
    "        n_steps = 1\n",
    "        n_features = X_train.shape[1]\n",
    "        \n",
    "        # split dataframe by features\n",
    "        X_train_modalities = split_DataFrame(pd.DataFrame(X_train))\n",
    "        X_val_modalities = split_DataFrame(pd.DataFrame(X_val))\n",
    "        \n",
    "        # use all the modalities as the input\n",
    "        model.fit(X_train_modalities,\n",
    "                  y_train,\n",
    "                  batch_size=512,\n",
    "                  epochs=100,\n",
    "                  verbose=False)\n",
    "\n",
    "        y_pred.extend(model.predict(X_val_modalities).flatten())\n",
    "        y_true.extend(y_val)\n",
    "    \n",
    "    # save to history\n",
    "    global pred_history, true_history\n",
    "    pred_history = y_pred\n",
    "    true_history = y_true\n",
    "    \n",
    "    print('RMSE: ', np.sqrt(mean_squared_error(y_true, y_pred)))\n",
    "    return model"
   ]
  },
  {
   "cell_type": "code",
   "execution_count": 63,
   "metadata": {},
   "outputs": [],
   "source": [
    "def split_DataFrame(df):\n",
    "    series_list = []\n",
    "    \n",
    "    # make each feature a separate list\n",
    "    for feature in df.columns:\n",
    "        temp = np.asarray(df[feature])\n",
    "        \n",
    "        # add needed dimensions for the network\n",
    "        temp = temp.reshape(temp.shape[0],1,1,1)\n",
    "        series_list.append(temp)\n",
    "        \n",
    "    return series_list"
   ]
  },
  {
   "cell_type": "code",
   "execution_count": 64,
   "metadata": {},
   "outputs": [
    {
     "name": "stdout",
     "output_type": "stream",
     "text": [
      "RMSE:  0.2966798005139237\n"
     ]
    }
   ],
   "source": [
    "hybrid.compile(optimizer='RMSprop', loss='mse')\n",
    "hybrid = test_multiModal(hybrid, postmile_df.iloc[:, :8], postmile_df.iloc[:, -1])"
   ]
  },
  {
   "cell_type": "code",
   "execution_count": 65,
   "metadata": {},
   "outputs": [
    {
     "data": {
      "text/plain": [
       "<matplotlib.axes._subplots.AxesSubplot at 0x1a41181940>"
      ]
     },
     "execution_count": 65,
     "metadata": {},
     "output_type": "execute_result"
    },
    {
     "data": {
      "image/png": "[encoded data removed]",
      "text/plain": [
       "<Figure size 432x288 with 1 Axes>"
      ]
     },
     "metadata": {
      "needs_background": "light"
     },
     "output_type": "display_data"
    }
   ],
   "source": [
    "hmdlf_model = save_history()\n",
    "hmdlf_model.plot.line()"
   ]
  },
  {
   "cell_type": "markdown",
   "metadata": {},
   "source": [
    "# HMLDF For Traffic Flow"
   ]
  },
  {
   "cell_type": "markdown",
   "metadata": {},
   "source": [
    "This model does not seem to be useful. In order to understand if the problem is the actual model itself or if its predicting accidents, it will be translated to predicting Flow as suggested in the research paper mentioned above."
   ]
  },
  {
   "cell_type": "code",
   "execution_count": 66,
   "metadata": {},
   "outputs": [],
   "source": [
    "# redo preprocessing steps to predict Flow\n",
    "postmiles_df2 = separate_postmiles(traffic_df)\n",
    "postmiles_df2 = convert_each_postmile(postmiles_df2, 'Flow')\n",
    "postmile_df2 = postmiles_df2[7]"
   ]
  },
  {
   "cell_type": "code",
   "execution_count": 67,
   "metadata": {},
   "outputs": [
    {
     "data": {
      "text/html": [
       "<div>\n",
       "<style scoped>\n",
       "    .dataframe tbody tr th:only-of-type {\n",
       "        vertical-align: middle;\n",
       "    }\n",
       "\n",
       "    .dataframe tbody tr th {\n",
       "        vertical-align: top;\n",
       "    }\n",
       "\n",
       "    .dataframe thead th {\n",
       "        text-align: right;\n",
       "    }\n",
       "</style>\n",
       "<table border=\"1\" class=\"dataframe\">\n",
       "  <thead>\n",
       "    <tr style=\"text-align: right;\">\n",
       "      <th></th>\n",
       "      <th>Speed (t)</th>\n",
       "      <th>Flow (t)</th>\n",
       "      <th>Occupancy (t)</th>\n",
       "      <th>Truck Flow (t)</th>\n",
       "      <th>Miles Traveled (Mean) (t)</th>\n",
       "      <th>Accidents (t)</th>\n",
       "      <th>Temperature (t+1)</th>\n",
       "      <th>Windspeed (t+1)</th>\n",
       "      <th>Flow (t+1)</th>\n",
       "    </tr>\n",
       "  </thead>\n",
       "  <tbody>\n",
       "    <tr>\n",
       "      <th>0</th>\n",
       "      <td>68.07</td>\n",
       "      <td>4199</td>\n",
       "      <td>0.11</td>\n",
       "      <td>1528</td>\n",
       "      <td>581738800</td>\n",
       "      <td>0.0</td>\n",
       "      <td>49.000000</td>\n",
       "      <td>1.666667</td>\n",
       "      <td>3754.0</td>\n",
       "    </tr>\n",
       "    <tr>\n",
       "      <th>1</th>\n",
       "      <td>67.88</td>\n",
       "      <td>3754</td>\n",
       "      <td>0.11</td>\n",
       "      <td>1490</td>\n",
       "      <td>473978751</td>\n",
       "      <td>0.0</td>\n",
       "      <td>47.833333</td>\n",
       "      <td>1.333333</td>\n",
       "      <td>3555.0</td>\n",
       "    </tr>\n",
       "    <tr>\n",
       "      <th>2</th>\n",
       "      <td>67.00</td>\n",
       "      <td>3555</td>\n",
       "      <td>0.11</td>\n",
       "      <td>1461</td>\n",
       "      <td>404709163</td>\n",
       "      <td>1.0</td>\n",
       "      <td>44.666667</td>\n",
       "      <td>0.000000</td>\n",
       "      <td>3776.0</td>\n",
       "    </tr>\n",
       "    <tr>\n",
       "      <th>3</th>\n",
       "      <td>67.83</td>\n",
       "      <td>3776</td>\n",
       "      <td>0.11</td>\n",
       "      <td>1484</td>\n",
       "      <td>430204301</td>\n",
       "      <td>0.0</td>\n",
       "      <td>44.166667</td>\n",
       "      <td>1.000000</td>\n",
       "      <td>4476.0</td>\n",
       "    </tr>\n",
       "    <tr>\n",
       "      <th>4</th>\n",
       "      <td>69.07</td>\n",
       "      <td>4476</td>\n",
       "      <td>0.12</td>\n",
       "      <td>1551</td>\n",
       "      <td>703978875</td>\n",
       "      <td>0.0</td>\n",
       "      <td>43.833333</td>\n",
       "      <td>0.500000</td>\n",
       "      <td>5714.0</td>\n",
       "    </tr>\n",
       "  </tbody>\n",
       "</table>\n",
       "</div>"
      ],
      "text/plain": [
       "   Speed (t)  Flow (t)  Occupancy (t)  Truck Flow (t)  \\\n",
       "0      68.07      4199           0.11            1528   \n",
       "1      67.88      3754           0.11            1490   \n",
       "2      67.00      3555           0.11            1461   \n",
       "3      67.83      3776           0.11            1484   \n",
       "4      69.07      4476           0.12            1551   \n",
       "\n",
       "   Miles Traveled (Mean) (t)  Accidents (t)  Temperature (t+1)  \\\n",
       "0                  581738800            0.0          49.000000   \n",
       "1                  473978751            0.0          47.833333   \n",
       "2                  404709163            1.0          44.666667   \n",
       "3                  430204301            0.0          44.166667   \n",
       "4                  703978875            0.0          43.833333   \n",
       "\n",
       "   Windspeed (t+1)  Flow (t+1)  \n",
       "0         1.666667      3754.0  \n",
       "1         1.333333      3555.0  \n",
       "2         0.000000      3776.0  \n",
       "3         1.000000      4476.0  \n",
       "4         0.500000      5714.0  "
      ]
     },
     "execution_count": 67,
     "metadata": {},
     "output_type": "execute_result"
    }
   ],
   "source": [
    "postmile_df2.head()"
   ]
  },
  {
   "cell_type": "code",
   "execution_count": 68,
   "metadata": {},
   "outputs": [],
   "source": [
    "modalities = []\n",
    "diff_inputs = []\n",
    "\n",
    "# only use the flow, speed, and occupancy as features\n",
    "for features in postmile_df2.iloc[:, :3].columns:\n",
    "    inputs = Input(shape=(n_steps, 1, 1))\n",
    "    \n",
    "    #cnn\n",
    "    x = TimeDistributed(Conv1D(32, 1, activation='relu'))(inputs)\n",
    "    x = TimeDistributed(MaxPooling1D(1))(x)\n",
    "    x = TimeDistributed(Flatten())(x)\n",
    "\n",
    "    #GRU\n",
    "    x = LSTM(128, activation='relu', return_sequences=True)(x)\n",
    "    x = Dropout(0.1)(x)\n",
    "    x = LSTM(128, activation='relu', return_sequences=True)(x)\n",
    "    x = Dropout(0.1)(x)\n",
    "    x = Flatten()(x)\n",
    "\n",
    "    modalities.append(x)\n",
    "    diff_inputs.append(inputs)\n",
    "    \n",
    "multimodal = concatenate(modalities)\n",
    "x = Dense(64, activation='relu')(multimodal)\n",
    "x = Dropout(0.1)(x)\n",
    "x = Dense(32, activation='relu')(multimodal)\n",
    "x = Dropout(0.1)(x)\n",
    "\n",
    "outputs = Dense(1, activation='linear')(x)\n",
    "hybrid_flow = Model(inputs=diff_inputs, outputs=outputs)"
   ]
  },
  {
   "cell_type": "code",
   "execution_count": 70,
   "metadata": {},
   "outputs": [
    {
     "name": "stdout",
     "output_type": "stream",
     "text": [
      "RMSE:  832.18826850593\n"
     ]
    }
   ],
   "source": [
    "hybrid_flow.compile(optimizer='RMSprop', loss='mse')\n",
    "hybrid_flow = test_multiModal(hybrid_flow, postmile_df2.iloc[:, :3], postmile_df2.iloc[:, -1])"
   ]
  },
  {
   "cell_type": "code",
   "execution_count": 71,
   "metadata": {},
   "outputs": [
    {
     "data": {
      "text/plain": [
       "<matplotlib.axes._subplots.AxesSubplot at 0x1a4253d2e8>"
      ]
     },
     "execution_count": 71,
     "metadata": {},
     "output_type": "execute_result"
    },
    {
     "data": {
      "image/png": "[encoded data removed]",
      "text/plain": [
       "<Figure size 432x288 with 1 Axes>"
      ]
     },
     "metadata": {
      "needs_background": "light"
     },
     "output_type": "display_data"
    }
   ],
   "source": [
    "hmdlf_model = save_history()\n",
    "hmdlf_model.plot.line()"
   ]
  },
  {
   "cell_type": "markdown",
   "metadata": {},
   "source": [
    "The model above was not tuned, but still seems to learn the patterns associated with traffic flow. For this reason, I believe that the time distortion in my data is the main problem for trying to predict accidents. Also predicting multiple time steps rather than one, is another factor that may have impacted my results."
   ]
  },
  {
   "cell_type": "markdown",
   "metadata": {},
   "source": [
    "# Analysis"
   ]
  },
  {
   "cell_type": "markdown",
   "metadata": {},
   "source": [
    "The HMDLF model doesn't do too well for predicting future accidents for my data. There are two specific reasons that I believe are preventing the model from learning. The first reason is simply due to the fact that the features alone are not useful for prediciting accidents. There is no correlation between any of the features and accidents as examined in the Data Exploration section. The essential problem, and my second reason for why this is not working, is the time distortion. The features that are used here are most likely very influential in deciding if an accident is going to occur, however only at the exact times before these accidents occur. The data that I was able to collect are weekly averages, and this is most likely the core of the problem.\n",
    "\n",
    "Overall the CNN_GRU appears to be the model with the most potential and learning the most, from the graph displayed, even though it recieved a higher RMSE. The CNN_GRU was a baseline implemenation, and most likely can be tuned to perform much better. However, I wanted to focus most of my efforts imlementing the HMLDF model, as I wanted to explore some of its characteristics. Overall, the project was a great learing experience.\n",
    "\n",
    "Note: <br>\n",
    "Professor Sun, the quarter was great and learning how to work with Pandas was extremeley helpful. Thank you and I appreciate all the time you put into the course."
   ]
  }
 ],
 "metadata": {
  "kernelspec": {
   "display_name": "Python 3",
   "language": "python",
   "name": "python3"
  },
  "language_info": {
   "codemirror_mode": {
    "name": "ipython",
    "version": 3
   },
   "file_extension": ".py",
   "mimetype": "text/x-python",
   "name": "python",
   "nbconvert_exporter": "python",
   "pygments_lexer": "ipython3",
   "version": "3.6.8"
  }
 },
 "nbformat": 4,
 "nbformat_minor": 2
}
